{
  "nbformat": 4,
  "nbformat_minor": 0,
  "metadata": {
    "colab": {
      "provenance": []
    },
    "kernelspec": {
      "name": "python3",
      "display_name": "Python 3"
    },
    "language_info": {
      "name": "python"
    }
  },
  "cells": [
    {
      "cell_type": "code",
      "execution_count": 7,
      "metadata": {
        "colab": {
          "base_uri": "https://localhost:8080/"
        },
        "id": "TWLt4Yx5qgcZ",
        "outputId": "d319b175-7bec-4dfe-cb77-e16ae239e308"
      },
      "outputs": [
        {
          "output_type": "stream",
          "name": "stdout",
          "text": [
            "Python!\n"
          ]
        }
      ],
      "source": [
        "str=\"hello, Python!\"\n",
        "print(str[7:])"
      ]
    },
    {
      "cell_type": "code",
      "source": [],
      "metadata": {
        "id": "AhnIQproqs9I"
      },
      "execution_count": null,
      "outputs": []
    }
  ]
}